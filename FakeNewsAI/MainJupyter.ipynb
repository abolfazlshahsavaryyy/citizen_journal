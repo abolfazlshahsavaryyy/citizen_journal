{
 "cells": [
  {
   "cell_type": "markdown",
   "id": "3566c06a",
   "metadata": {},
   "source": [
    "## using statement"
   ]
  },
  {
   "cell_type": "code",
   "execution_count": 8,
   "id": "da638bde",
   "metadata": {},
   "outputs": [],
   "source": [
    "import numpy as np\n",
    "import pandas as pd\n",
    "import matplotlib.pyplot as plt\n",
    "import re\n",
    "from sklearn.model_selection import train_test_split\n",
    "from sklearn.svm import SVC\n",
    "from sklearn.svm import LinearSVC\n",
    "from sklearn.metrics import accuracy_score\n",
    "from collections import Counter\n",
    "from sklearn.linear_model import LogisticRegression\n",
    "import textstat\n"
   ]
  },
  {
   "cell_type": "markdown",
   "id": "1b3616a2",
   "metadata": {},
   "source": [
    "## Constant"
   ]
  },
  {
   "cell_type": "code",
   "execution_count": 9,
   "id": "11c8bb8a",
   "metadata": {},
   "outputs": [],
   "source": [
    "RANDOM_STATE=42\n",
    "C=0.01\n",
    "MAX_ITER=500"
   ]
  },
  {
   "cell_type": "markdown",
   "id": "7ce10130",
   "metadata": {},
   "source": [
    "## Read data from file"
   ]
  },
  {
   "cell_type": "code",
   "execution_count": 10,
   "id": "3f4c6502",
   "metadata": {},
   "outputs": [],
   "source": [
    "def read_data(path_fake,path_true):\n",
    "    df_fake=pd.read_csv(path_fake)\n",
    "    df_true=pd.read_csv(path_true)\n",
    "    df_fake[\"label\"]=\"fake\"\n",
    "    df_true[\"label\"]=\"true\"\n",
    "    df_fake[\"target\"]=0\n",
    "    df_true[\"target\"]=1\n",
    "\n",
    "    df=pd.concat([df_fake,df_true],ignore_index=True)\n",
    "    df = df.sample(frac=1, random_state=42).reset_index(drop=True)\n",
    "    return df"
   ]
  },
  {
   "cell_type": "code",
   "execution_count": 11,
   "id": "19e29934",
   "metadata": {},
   "outputs": [],
   "source": [
    "df=read_data(\"Fake.csv\",\"True.csv\")"
   ]
  },
  {
   "cell_type": "markdown",
   "id": "801306ae",
   "metadata": {},
   "source": [
    "## Clean data"
   ]
  },
  {
   "cell_type": "markdown",
   "id": "d2061f49",
   "metadata": {},
   "source": [
    "### basic feature from text"
   ]
  },
  {
   "cell_type": "code",
   "execution_count": 12,
   "id": "b5045493",
   "metadata": {},
   "outputs": [],
   "source": [
    "def clean_text(text):\n",
    "    if pd.isnull(text):\n",
    "        return \"\"\n",
    "    text = text.lower()                              # lowercase\n",
    "    text = re.sub(r\"http\\S+|www\\S+|https\\S+\", '', text, flags=re.MULTILINE)  # remove URLs\n",
    "    text = re.sub(r'\\@w+|\\#','', text)               # remove mentions and hashtags\n",
    "    text = re.sub(r'[^a-z\\s]', '', text)             # remove punctuation and numbers\n",
    "    text = re.sub(r'\\s+', ' ', text).strip()         # remove extra whitespace\n",
    "    return text"
   ]
  },
  {
   "cell_type": "code",
   "execution_count": 13,
   "id": "34f589de",
   "metadata": {},
   "outputs": [],
   "source": [
    "def avg_word_length_long_words(text):\n",
    "    words = text.split()\n",
    "    long_words = [w for w in words if len(w) >= 4]\n",
    "    if not long_words:  # avoid division by zero\n",
    "        return 0\n",
    "    return sum(len(w) for w in long_words) / len(long_words)"
   ]
  },
  {
   "cell_type": "code",
   "execution_count": 14,
   "id": "d864360d",
   "metadata": {},
   "outputs": [],
   "source": [
    "def num_unique_words(text):\n",
    "    return len(set(text.split()))"
   ]
  },
  {
   "cell_type": "code",
   "execution_count": 15,
   "id": "75059286",
   "metadata": {},
   "outputs": [],
   "source": [
    "def avg_word_length(text):\n",
    "    words = text.split()\n",
    "    return np.mean([len(w) for w in words]) if words else 0"
   ]
  },
  {
   "cell_type": "code",
   "execution_count": 16,
   "id": "cd0a9c51",
   "metadata": {},
   "outputs": [],
   "source": [
    "def punctuation_count(text):\n",
    "    return len(re.findall(r'[^\\w\\s]', text))"
   ]
  },
  {
   "cell_type": "code",
   "execution_count": 17,
   "id": "b6186679",
   "metadata": {},
   "outputs": [],
   "source": [
    "def exclamation_count(text):\n",
    "    return text.count('!')"
   ]
  },
  {
   "cell_type": "code",
   "execution_count": 18,
   "id": "c1702f4e",
   "metadata": {},
   "outputs": [],
   "source": [
    "def question_count(text):\n",
    "    return text.count('?')"
   ]
  },
  {
   "cell_type": "code",
   "execution_count": 19,
   "id": "d684221c",
   "metadata": {},
   "outputs": [],
   "source": [
    "def num_uppercase_words(text):\n",
    "    return sum(1 for w in text.split() if w.isupper())"
   ]
  },
  {
   "cell_type": "code",
   "execution_count": 20,
   "id": "680a47d8",
   "metadata": {},
   "outputs": [],
   "source": [
    "def title_word_overlap_ratio(text, title):\n",
    "    if not title:\n",
    "        return 0\n",
    "    title_words = set(title.lower().split())\n",
    "    text_words = set(text.lower().split())\n",
    "    if len(title_words) == 0:\n",
    "        return 0\n",
    "    return len(title_words & text_words) / len(title_words)"
   ]
  },
  {
   "cell_type": "code",
   "execution_count": 21,
   "id": "a8be882b",
   "metadata": {},
   "outputs": [],
   "source": [
    "def contains_hyperlink(text):\n",
    "    return int('http' in text or 'www' in text)"
   ]
  },
  {
   "cell_type": "code",
   "execution_count": 22,
   "id": "3c9f087d",
   "metadata": {},
   "outputs": [],
   "source": [
    "def avg_sentences_length(text):\n",
    "    # Split by '.', filter out empty sentences\n",
    "    sentences = [s.strip() for s in text.split('.') if s.strip()]\n",
    "    if not sentences:\n",
    "        return 0\n",
    "    # Count words in each sentence\n",
    "    sentences_length = [len(s.split()) for s in sentences]\n",
    "    return np.mean(sentences_length)"
   ]
  },
  {
   "cell_type": "code",
   "execution_count": 23,
   "id": "0e7c4a91",
   "metadata": {},
   "outputs": [],
   "source": [
    "def num_word(text):\n",
    "    return len(text.split())"
   ]
  },
  {
   "cell_type": "code",
   "execution_count": 24,
   "id": "324e6193",
   "metadata": {},
   "outputs": [],
   "source": [
    "def num_sentences(text):\n",
    "    # Split on ., !, ? followed by a space or end of string\n",
    "    sentences = re.split(r'[.!?]+(?:\\s|$)', text)\n",
    "    sentences = [s.strip() for s in sentences if s.strip()]\n",
    "    return len(sentences)"
   ]
  },
  {
   "cell_type": "code",
   "execution_count": 25,
   "id": "b8670dff",
   "metadata": {},
   "outputs": [],
   "source": [
    "def vocabulary_richness(text):\n",
    "    words=[word for word in text.split()]\n",
    "    if(len(words)==0):\n",
    "        return 0\n",
    "    res=len(set(words)) / len(words)\n",
    "    return res"
   ]
  },
  {
   "cell_type": "code",
   "execution_count": 26,
   "id": "8798b80f",
   "metadata": {},
   "outputs": [],
   "source": [
    "def most_used_word_count(text):\n",
    "    words = re.findall(r'\\b\\w+\\b', text.lower())\n",
    "    if not words:\n",
    "        return 0\n",
    "    word_counts = Counter(words)\n",
    "    return word_counts.most_common(1)[0][1]  # just the count"
   ]
  },
  {
   "cell_type": "markdown",
   "id": "61cc9d42",
   "metadata": {},
   "source": [
    "### language processing features"
   ]
  },
  {
   "cell_type": "code",
   "execution_count": 27,
   "id": "d62105dc",
   "metadata": {},
   "outputs": [],
   "source": [
    "def readablitity(text):\n",
    "    score=textstat.flesch_reading_ease(text)\n",
    "    return score"
   ]
  },
  {
   "cell_type": "code",
   "execution_count": 28,
   "id": "ae06de46",
   "metadata": {},
   "outputs": [],
   "source": [
    "def smog_index(text):\n",
    "    index=textstat.smog_index(text)\n",
    "    return index"
   ]
  },
  {
   "cell_type": "code",
   "execution_count": 29,
   "id": "5a3d8df2",
   "metadata": {},
   "outputs": [],
   "source": [
    "def difficalt_word(text):\n",
    "    difficality=textstat.difficult_words(text)\n",
    "    return difficality"
   ]
  },
  {
   "cell_type": "code",
   "execution_count": null,
   "id": "a53cef18",
   "metadata": {},
   "outputs": [],
   "source": [
    "def extract_features(text, title):\n",
    "    return {\n",
    "        'num_unique_words': num_unique_words(text),\n",
    "        \n",
    "        'punctuation_count': punctuation_count(text),\n",
    "        'exclamation_count': exclamation_count(text),\n",
    "        'question_count': question_count(text),\n",
    "        \n",
    "        'title_word_overlap_ratio': title_word_overlap_ratio(text, title),\n",
    "        'contains_hyperlink': contains_hyperlink(text),\n",
    "        \n",
    "        \n",
    "        \n",
    "        \n",
    "        'vocabulary_richness': vocabulary_richness(text),\n",
    "        \n",
    "        'readablility_text':readablitity(text),\n",
    "        'smog':smog_index(text),\n",
    "        'difficalt_word':difficalt_word(text)\n",
    "    }\n"
   ]
  },
  {
   "cell_type": "code",
   "execution_count": 31,
   "id": "21214264",
   "metadata": {},
   "outputs": [],
   "source": [
    "def clean_data(df):\n",
    "    df[\"length_text\"] = df[\"text\"].apply(len)\n",
    "    df[\"length_title\"] = df[\"title\"].apply(len)\n",
    "\n",
    "    df['text_title_length_relation'] = df.apply(\n",
    "        lambda row: row['length_text'] / row['length_title'] if row['length_title'] != 0 else 0, axis=1\n",
    "    )\n",
    "\n",
    "    features_df = df.apply(lambda row: extract_features(row['text'], row['title']), axis=1, result_type='expand')\n",
    "\n",
    "    df = pd.concat([df, features_df], axis=1)\n",
    "    df = df.drop(columns=['title', 'text', 'subject', 'date', 'label'])\n",
    "    df = df.dropna()\n",
    "    return df\n"
   ]
  },
  {
   "cell_type": "code",
   "execution_count": 32,
   "id": "6f14532f",
   "metadata": {},
   "outputs": [],
   "source": [
    "clean_df=clean_data(df)\n",
    "clean_df.head()\n",
    "clean_df.describe()\n",
    "clean_df.to_csv('/home/abolfazl/Documents/python-code/FakeNewsDetection/data/clean_data.csv',index=False)\n"
   ]
  },
  {
   "cell_type": "code",
   "execution_count": 33,
   "id": "0227211f",
   "metadata": {},
   "outputs": [],
   "source": [
    "clean_df.head()\n",
    "clean_df.to_csv('/home/abolfazl/Documents/python-code/FakeNewsDetection/data/clean_data.csv',index=False)"
   ]
  },
  {
   "cell_type": "markdown",
   "id": "165f67c3",
   "metadata": {},
   "source": [
    "## scatter the text and title length"
   ]
  },
  {
   "cell_type": "code",
   "execution_count": 34,
   "id": "e62adfcf",
   "metadata": {},
   "outputs": [],
   "source": [
    "def scatter_title_text_lenght(df):\n",
    "    df_0 = df[df['target'] == 0]\n",
    "    plt.scatter(df_0['length_text'], df_0['length_title'], color='red', label='Target 0')\n",
    "\n",
    "    # Plot points where target == 1 (green)\n",
    "    df_1 = df[df['target'] == 1]\n",
    "    plt.scatter(df_1['length_text'], df_1['length_title'], color='green', label='Target 1')\n",
    "\n",
    "    # Add labels and legend\n",
    "    plt.xlabel('Length of Text')\n",
    "    plt.ylabel('Length of Title')\n",
    "    plt.title('Text vs Title Length by Target')\n",
    "    plt.legend()\n",
    "\n",
    "    # Show plot\n",
    "    plt.show()\n",
    "\n",
    "\n",
    "    plt.scatter(df_0['avg_len_4plus'], df_0['text_title_length_relation'], color='red', label='Target 0')\n",
    "    plt.scatter(df_1['avg_len_4plus'], df_1['text_title_length_relation'], color='green', label='Target 1')\n",
    "    plt.xlabel('avg_len_4plus')\n",
    "    plt.ylabel('text_title_length_relation')\n",
    "    plt.title('text_title_length_relation vs avg_len_4plus  by Target')\n",
    "    plt.legend()\n",
    "\n",
    "    # Show plot\n",
    "    plt.show()\n",
    "\n",
    "\n",
    "    plt.scatter(df_0['avg_len_sentences'], df_0['number_word'], color='red', label='Target 0')\n",
    "    plt.scatter(df_1['avg_len_sentences'], df_1['number_word'], color='green', label='Target 1')\n",
    "    plt.xlabel('avg_len_sentences')\n",
    "    plt.ylabel('number_word')\n",
    "    plt.title('number_word vs avg_len_sentences  by Target')\n",
    "    plt.legend()\n",
    "\n",
    "    # Show plot\n",
    "    plt.show()\n",
    "\n",
    "    \n",
    "    plt.scatter(df_0['vocabulary_richness'], df_0['num_sentences'], color='red', label='Target 0')\n",
    "    plt.scatter(df_1['vocabulary_richness'], df_1['num_sentences'], color='green', label='Target 1')\n",
    "    plt.xlabel('vocabulary_richness')\n",
    "    plt.ylabel('num_sentences')\n",
    "    plt.title('num_sentences vs vocabulary_richness  by Target')\n",
    "    plt.legend()\n",
    "\n",
    "    # Show plot\n",
    "    plt.show()\n",
    "\n",
    "    plt.scatter(df_0['avg_word_length'], df_0['num_unique_words'], color='red', label='Target 0')\n",
    "    plt.scatter(df_1['avg_word_length'], df_1['num_unique_words'], color='green', label='Target 1')\n",
    "    plt.xlabel('avg_word_length')\n",
    "    plt.ylabel('num_unique_words')\n",
    "    plt.title('num_unique_words vs vocabulavg_word_lengthary_richness  by Target')\n",
    "    plt.legend()\n",
    "\n",
    "    # Show plot\n",
    "    plt.show()\n",
    "\n",
    "    plt.scatter(df_0['exclamation_count'], df_0['punctuation_count'], color='red', label='Target 0')\n",
    "    plt.scatter(df_1['exclamation_count'], df_1['punctuation_count'], color='green', label='Target 1')\n",
    "    plt.xlabel('exclamation_count')\n",
    "    plt.ylabel('punctuation_count')\n",
    "    plt.title('punctuation_count vs exclamation_count  by Target')\n",
    "    plt.legend()\n",
    "\n",
    "    # Show plot\n",
    "    plt.show()\n",
    "\n",
    "    plt.scatter(df_0['num_uppercase_words'], df_0['question_count'], color='red', label='Target 0')\n",
    "    plt.scatter(df_1['num_uppercase_words'], df_1['question_count'], color='green', label='Target 1')\n",
    "    plt.xlabel('num_uppercase_words')\n",
    "    plt.ylabel('question_count')\n",
    "    plt.title('question_count vs num_uppercase_words  by Target')\n",
    "    plt.legend()\n",
    "\n",
    "    # Show plot\n",
    "    plt.show()\n",
    "\n",
    "    plt.scatter(df_0['contains_hyperlink'], df_0['title_word_overlap_ratio'], color='red', label='Target 0')\n",
    "    plt.scatter(df_1['contains_hyperlink'], df_1['title_word_overlap_ratio'], color='green', label='Target 1')\n",
    "    plt.xlabel('contains_hyperlink')\n",
    "    plt.ylabel('title_word_overlap_ratio')\n",
    "    plt.title('title_word_overlap_ratio vs contains_hyperlink  by Target')\n",
    "    plt.legend()\n",
    "\n",
    "    # Show plot\n",
    "    plt.show()\n",
    "\n",
    "    plt.scatter(df_0['readablility_text'], df_0['smog'], color='red', label='Target 0')\n",
    "    plt.scatter(df_1['readablility_text'], df_1['smog'], color='green', label='Target 1')\n",
    "    plt.xlabel('readablility_text')\n",
    "    plt.ylabel('smog')\n",
    "    plt.title('smog vs readablility_text  by Target')\n",
    "    plt.legend()\n",
    "\n",
    "    # Show plot\n",
    "    plt.show()\n",
    "\n",
    "    \n",
    "    plt.scatter(df_0['difficalt_word'], df_0['smog'], color='red', label='Target 0')\n",
    "    plt.scatter(df_1['difficalt_word'], df_1['smog'], color='green', label='Target 1')\n",
    "    plt.xlabel('difficalt_word')\n",
    "    plt.ylabel('smog')\n",
    "    plt.title('smog vs difficalt_word  by Target')\n",
    "    plt.legend()\n",
    "\n",
    "    # Show plot\n",
    "    plt.show()\n",
    "\n",
    "\n",
    "    \n",
    "    \n",
    "    "
   ]
  },
  {
   "cell_type": "code",
   "execution_count": null,
   "id": "89f6c06d",
   "metadata": {},
   "outputs": [
    {
     "data": {
      "image/png": "[encoded data removed]",
      "text/plain": [
       "<Figure size 640x480 with 1 Axes>"
      ]
     },
     "metadata": {},
     "output_type": "display_data"
    },
    {
     "ename": "KeyError",
     "evalue": "'avg_len_4plus'",
     "output_type": "error",
     "traceback": [
      "\u001b[31m---------------------------------------------------------------------------\u001b[39m",
      "\u001b[31mKeyError\u001b[39m                                  Traceback (most recent call last)",
      "\u001b[36mFile \u001b[39m\u001b[32m~/Documents/citizen_journal/venv/lib/python3.12/site-packages/pandas/core/indexes/base.py:3812\u001b[39m, in \u001b[36mIndex.get_loc\u001b[39m\u001b[34m(self, key)\u001b[39m\n\u001b[32m   3811\u001b[39m \u001b[38;5;28;01mtry\u001b[39;00m:\n\u001b[32m-> \u001b[39m\u001b[32m3812\u001b[39m     \u001b[38;5;28;01mreturn\u001b[39;00m \u001b[38;5;28;43mself\u001b[39;49m\u001b[43m.\u001b[49m\u001b[43m_engine\u001b[49m\u001b[43m.\u001b[49m\u001b[43mget_loc\u001b[49m\u001b[43m(\u001b[49m\u001b[43mcasted_key\u001b[49m\u001b[43m)\u001b[49m\n\u001b[32m   3813\u001b[39m \u001b[38;5;28;01mexcept\u001b[39;00m \u001b[38;5;167;01mKeyError\u001b[39;00m \u001b[38;5;28;01mas\u001b[39;00m err:\n",
      "\u001b[36mFile \u001b[39m\u001b[32mpandas/_libs/index.pyx:167\u001b[39m, in \u001b[36mpandas._libs.index.IndexEngine.get_loc\u001b[39m\u001b[34m()\u001b[39m\n",
      "\u001b[36mFile \u001b[39m\u001b[32mpandas/_libs/index.pyx:196\u001b[39m, in \u001b[36mpandas._libs.index.IndexEngine.get_loc\u001b[39m\u001b[34m()\u001b[39m\n",
      "\u001b[36mFile \u001b[39m\u001b[32mpandas/_libs/hashtable_class_helper.pxi:7088\u001b[39m, in \u001b[36mpandas._libs.hashtable.PyObjectHashTable.get_item\u001b[39m\u001b[34m()\u001b[39m\n",
      "\u001b[36mFile \u001b[39m\u001b[32mpandas/_libs/hashtable_class_helper.pxi:7096\u001b[39m, in \u001b[36mpandas._libs.hashtable.PyObjectHashTable.get_item\u001b[39m\u001b[34m()\u001b[39m\n",
      "\u001b[31mKeyError\u001b[39m: 'avg_len_4plus'",
      "\nThe above exception was the direct cause of the following exception:\n",
      "\u001b[31mKeyError\u001b[39m                                  Traceback (most recent call last)",
      "\u001b[36mCell\u001b[39m\u001b[36m \u001b[39m\u001b[32mIn[35]\u001b[39m\u001b[32m, line 1\u001b[39m\n\u001b[32m----> \u001b[39m\u001b[32m1\u001b[39m \u001b[43mscatter_title_text_lenght\u001b[49m\u001b[43m(\u001b[49m\u001b[43mclean_df\u001b[49m\u001b[43m)\u001b[49m\n",
      "\u001b[36mCell\u001b[39m\u001b[36m \u001b[39m\u001b[32mIn[34]\u001b[39m\u001b[32m, line 19\u001b[39m, in \u001b[36mscatter_title_text_lenght\u001b[39m\u001b[34m(df)\u001b[39m\n\u001b[32m     15\u001b[39m \u001b[38;5;66;03m# Show plot\u001b[39;00m\n\u001b[32m     16\u001b[39m plt.show()\n\u001b[32m---> \u001b[39m\u001b[32m19\u001b[39m plt.scatter(\u001b[43mdf_0\u001b[49m\u001b[43m[\u001b[49m\u001b[33;43m'\u001b[39;49m\u001b[33;43mavg_len_4plus\u001b[39;49m\u001b[33;43m'\u001b[39;49m\u001b[43m]\u001b[49m, df_0[\u001b[33m'\u001b[39m\u001b[33mtext_title_length_relation\u001b[39m\u001b[33m'\u001b[39m], color=\u001b[33m'\u001b[39m\u001b[33mred\u001b[39m\u001b[33m'\u001b[39m, label=\u001b[33m'\u001b[39m\u001b[33mTarget 0\u001b[39m\u001b[33m'\u001b[39m)\n\u001b[32m     20\u001b[39m plt.scatter(df_1[\u001b[33m'\u001b[39m\u001b[33mavg_len_4plus\u001b[39m\u001b[33m'\u001b[39m], df_1[\u001b[33m'\u001b[39m\u001b[33mtext_title_length_relation\u001b[39m\u001b[33m'\u001b[39m], color=\u001b[33m'\u001b[39m\u001b[33mgreen\u001b[39m\u001b[33m'\u001b[39m, label=\u001b[33m'\u001b[39m\u001b[33mTarget 1\u001b[39m\u001b[33m'\u001b[39m)\n\u001b[32m     21\u001b[39m plt.xlabel(\u001b[33m'\u001b[39m\u001b[33mavg_len_4plus\u001b[39m\u001b[33m'\u001b[39m)\n",
      "\u001b[36mFile \u001b[39m\u001b[32m~/Documents/citizen_journal/venv/lib/python3.12/site-packages/pandas/core/frame.py:4107\u001b[39m, in \u001b[36mDataFrame.__getitem__\u001b[39m\u001b[34m(self, key)\u001b[39m\n\u001b[32m   4105\u001b[39m \u001b[38;5;28;01mif\u001b[39;00m \u001b[38;5;28mself\u001b[39m.columns.nlevels > \u001b[32m1\u001b[39m:\n\u001b[32m   4106\u001b[39m     \u001b[38;5;28;01mreturn\u001b[39;00m \u001b[38;5;28mself\u001b[39m._getitem_multilevel(key)\n\u001b[32m-> \u001b[39m\u001b[32m4107\u001b[39m indexer = \u001b[38;5;28;43mself\u001b[39;49m\u001b[43m.\u001b[49m\u001b[43mcolumns\u001b[49m\u001b[43m.\u001b[49m\u001b[43mget_loc\u001b[49m\u001b[43m(\u001b[49m\u001b[43mkey\u001b[49m\u001b[43m)\u001b[49m\n\u001b[32m   4108\u001b[39m \u001b[38;5;28;01mif\u001b[39;00m is_integer(indexer):\n\u001b[32m   4109\u001b[39m     indexer = [indexer]\n",
      "\u001b[36mFile \u001b[39m\u001b[32m~/Documents/citizen_journal/venv/lib/python3.12/site-packages/pandas/core/indexes/base.py:3819\u001b[39m, in \u001b[36mIndex.get_loc\u001b[39m\u001b[34m(self, key)\u001b[39m\n\u001b[32m   3814\u001b[39m     \u001b[38;5;28;01mif\u001b[39;00m \u001b[38;5;28misinstance\u001b[39m(casted_key, \u001b[38;5;28mslice\u001b[39m) \u001b[38;5;129;01mor\u001b[39;00m (\n\u001b[32m   3815\u001b[39m         \u001b[38;5;28misinstance\u001b[39m(casted_key, abc.Iterable)\n\u001b[32m   3816\u001b[39m         \u001b[38;5;129;01mand\u001b[39;00m \u001b[38;5;28many\u001b[39m(\u001b[38;5;28misinstance\u001b[39m(x, \u001b[38;5;28mslice\u001b[39m) \u001b[38;5;28;01mfor\u001b[39;00m x \u001b[38;5;129;01min\u001b[39;00m casted_key)\n\u001b[32m   3817\u001b[39m     ):\n\u001b[32m   3818\u001b[39m         \u001b[38;5;28;01mraise\u001b[39;00m InvalidIndexError(key)\n\u001b[32m-> \u001b[39m\u001b[32m3819\u001b[39m     \u001b[38;5;28;01mraise\u001b[39;00m \u001b[38;5;167;01mKeyError\u001b[39;00m(key) \u001b[38;5;28;01mfrom\u001b[39;00m\u001b[38;5;250m \u001b[39m\u001b[34;01merr\u001b[39;00m\n\u001b[32m   3820\u001b[39m \u001b[38;5;28;01mexcept\u001b[39;00m \u001b[38;5;167;01mTypeError\u001b[39;00m:\n\u001b[32m   3821\u001b[39m     \u001b[38;5;66;03m# If we have a listlike key, _check_indexing_error will raise\u001b[39;00m\n\u001b[32m   3822\u001b[39m     \u001b[38;5;66;03m#  InvalidIndexError. Otherwise we fall through and re-raise\u001b[39;00m\n\u001b[32m   3823\u001b[39m     \u001b[38;5;66;03m#  the TypeError.\u001b[39;00m\n\u001b[32m   3824\u001b[39m     \u001b[38;5;28mself\u001b[39m._check_indexing_error(key)\n",
      "\u001b[31mKeyError\u001b[39m: 'avg_len_4plus'"
     ]
    }
   ],
   "source": [
    "#scatter_title_text_lenght(clean_df)"
   ]
  },
  {
   "cell_type": "markdown",
   "id": "af5ba5d4",
   "metadata": {},
   "source": [
    "## seperate the X and Y"
   ]
  },
  {
   "cell_type": "code",
   "execution_count": 36,
   "id": "a1c7b26e",
   "metadata": {},
   "outputs": [],
   "source": [
    "x_df=clean_df.drop(columns=['target'])\n",
    "y_df=clean_df[\"target\"]"
   ]
  },
  {
   "cell_type": "markdown",
   "id": "af20c538",
   "metadata": {},
   "source": [
    "## split the train test"
   ]
  },
  {
   "cell_type": "code",
   "execution_count": 37,
   "id": "6a83d619",
   "metadata": {},
   "outputs": [],
   "source": [
    "def split_train_test_valid(x_df,y_df,test_size,valid_size):\n",
    "    x_train,x_test,y_train,y_test=train_test_split(x_df,y_df,test_size=test_size,random_state=RANDOM_STATE)\n",
    "    x_train,x_valid,y_train,y_valid=train_test_split(x_train,y_train,test_size=valid_size,random_state=RANDOM_STATE)\n",
    "    return x_train,x_test,x_valid,y_train,y_test,y_valid"
   ]
  },
  {
   "cell_type": "code",
   "execution_count": 38,
   "id": "6a18aa0a",
   "metadata": {},
   "outputs": [],
   "source": [
    "x_train,x_test,x_valid,y_train,y_test,y_valid=split_train_test_valid(x_df,y_df,test_size=0.2,valid_size=0.25)"
   ]
  },
  {
   "cell_type": "markdown",
   "id": "544298a8",
   "metadata": {},
   "source": [
    "## hyper parameter tuning"
   ]
  },
  {
   "cell_type": "code",
   "execution_count": 39,
   "id": "0da12d8e",
   "metadata": {},
   "outputs": [],
   "source": [
    "\n",
    "\n",
    "def manual_grid_search_linear(x_train, y_train, x_valid, y_valid, param_grid):\n",
    "    best_model = None\n",
    "    best_score = 0\n",
    "    best_params = {}\n",
    "\n",
    "    for C in param_grid['C']:\n",
    "        for max_iter in param_grid.get('max_iter', [1000]):\n",
    "            model = LinearSVC(C=C, max_iter=max_iter)\n",
    "            model.fit(x_train, y_train)\n",
    "            y_pred = model.predict(x_valid)\n",
    "            score = accuracy_score(y_valid, y_pred)\n",
    "\n",
    "            if score > best_score:\n",
    "                best_score = score\n",
    "                best_model = model\n",
    "                best_params = {'C': C, 'max_iter': max_iter}\n",
    "\n",
    "    return best_model, best_params, best_score\n"
   ]
  },
  {
   "cell_type": "code",
   "execution_count": 40,
   "id": "fe951912",
   "metadata": {},
   "outputs": [],
   "source": [
    "# param_grid = {\n",
    "#     'C': [0.001,0.01, 0.1, 1, 10,100],\n",
    "#     'max_iter': [100,200,500,1000]\n",
    "# }\n",
    "\n",
    "# best_model, best_params, best_score = manual_grid_search_linear(x_train, y_train, x_valid, y_valid, param_grid)\n",
    "# print(f\"best model: {best_model}\")\n",
    "# print(f\"best parameter: {best_params}\")\n",
    "# print(f\"best score{best_score}\")\n"
   ]
  },
  {
   "cell_type": "code",
   "execution_count": 41,
   "id": "1f7b56df",
   "metadata": {},
   "outputs": [
    {
     "name": "stdout",
     "output_type": "stream",
     "text": [
      "train accuracy: 0.9066745860865691\n",
      "test accuracy: 0.9062360801781737\n"
     ]
    }
   ],
   "source": [
    "svc_model=LinearSVC(C=C,max_iter=MAX_ITER)\n",
    "svc_model.fit(x_train,y_train)\n",
    "y_pred_train=svc_model.predict(x_train)\n",
    "y_pred_test=svc_model.predict(x_test)\n",
    "\n",
    "train_accuracy=accuracy_score(y_pred_train,y_train)\n",
    "test_accuracy=accuracy_score(y_pred_test,y_test)\n",
    "\n",
    "print(f\"train accuracy: {train_accuracy}\")\n",
    "print(f\"test accuracy: {test_accuracy}\")"
   ]
  },
  {
   "cell_type": "code",
   "execution_count": 42,
   "id": "b4014c04",
   "metadata": {},
   "outputs": [
    {
     "name": "stdout",
     "output_type": "stream",
     "text": [
      "train accuracy: 0.8960947360605835\n",
      "test accuracy: 0.8979955456570156\n"
     ]
    },
    {
     "name": "stderr",
     "output_type": "stream",
     "text": [
      "/home/abolfazl/Documents/citizen_journal/venv/lib/python3.12/site-packages/sklearn/linear_model/_logistic.py:470: ConvergenceWarning: lbfgs failed to converge after 500 iteration(s) (status=1):\n",
      "STOP: TOTAL NO. OF ITERATIONS REACHED LIMIT\n",
      "\n",
      "Increase the number of iterations to improve the convergence (max_iter=500).\n",
      "You might also want to scale the data as shown in:\n",
      "    https://scikit-learn.org/stable/modules/preprocessing.html\n",
      "Please also refer to the documentation for alternative solver options:\n",
      "    https://scikit-learn.org/stable/modules/linear_model.html#logistic-regression\n",
      "  n_iter_i = _check_optimize_result(\n"
     ]
    }
   ],
   "source": [
    "lr_model=LogisticRegression(max_iter=MAX_ITER)\n",
    "lr_model.fit(x_train,y_train)\n",
    "y_pred_train_logistic=lr_model.predict(x_train)\n",
    "y_pred_test_logistic=lr_model.predict(x_test)\n",
    "\n",
    "train_accuracy=accuracy_score(y_pred_train_logistic,y_train)\n",
    "test_accuracy=accuracy_score(y_pred_test_logistic,y_test)\n",
    "\n",
    "print(f\"train accuracy: {train_accuracy}\")\n",
    "print(f\"test accuracy: {test_accuracy}\")"
   ]
  },
  {
   "cell_type": "code",
   "execution_count": 43,
   "id": "150b806e",
   "metadata": {},
   "outputs": [],
   "source": [
    "class News:\n",
    "    def __init__(self,title,text):\n",
    "        self.title=title\n",
    "        self.text=text\n",
    "    "
   ]
  },
  {
   "cell_type": "code",
   "execution_count": 44,
   "id": "37db5352",
   "metadata": {},
   "outputs": [],
   "source": [
    "def predict_one(news:News,svm_model,logistic_model):\n",
    "    news_list=[[news.title,news.text,\"'subject\",\"date\",'abel']]\n",
    "    news_dataframe=pd.DataFrame(news_list,columns=['text','title','subject','date','label'])\n",
    "    news_dataframe=clean_data(news_dataframe)\n",
    "    svm_label=svm_model.predict(news_dataframe)\n",
    "    logistic_label=logistic_model.predict(news_dataframe)\n",
    "    return {\n",
    "        \"svm label\":svm_label[0],\n",
    "        \"logistic regression label\":logistic_label[0]\n",
    "    }\n",
    "\n",
    "\n"
   ]
  },
  {
   "cell_type": "code",
   "execution_count": 45,
   "id": "2fccfb64",
   "metadata": {},
   "outputs": [],
   "source": [
    "#predict_one(News(\"this is title\",\"and this is the text\"),svc_model,lr_model)"
   ]
  },
  {
   "cell_type": "code",
   "execution_count": 46,
   "id": "b3655971",
   "metadata": {},
   "outputs": [],
   "source": [
    "# title=input(\"Enter title: \")\n",
    "# text=input(\"Enter text:\")\n",
    "# predict_one(News(title,text),best_model,model)"
   ]
  },
  {
   "cell_type": "code",
   "execution_count": 47,
   "id": "aac59a64",
   "metadata": {},
   "outputs": [],
   "source": [
    "import joblib\n",
    "\n",
    "def save_model(models:list):\n",
    "\n",
    "    for model in models:\n",
    "        joblib.dump(model,f'{str(model)}.pkl')\n",
    "        print(f\"model {str(model)} has been saved\")"
   ]
  },
  {
   "cell_type": "code",
   "execution_count": null,
   "id": "190b3283",
   "metadata": {},
   "outputs": [
    {
     "name": "stdout",
     "output_type": "stream",
     "text": [
      "model LinearSVC(C=0.01, max_iter=500) has been saved\n",
      "model LogisticRegression(max_iter=500) has been saved\n"
     ]
    }
   ],
   "source": [
    "#save_model([svc_model,lr_model])"
   ]
  },
  {
   "cell_type": "code",
   "execution_count": null,
   "id": "12683f8e",
   "metadata": {},
   "outputs": [],
   "source": []
  }
 ],
 "metadata": {
  "kernelspec": {
   "display_name": "venv",
   "language": "python",
   "name": "python3"
  },
  "language_info": {
   "codemirror_mode": {
    "name": "ipython",
    "version": 3
   },
   "file_extension": ".py",
   "mimetype": "text/x-python",
   "name": "python",
   "nbconvert_exporter": "python",
   "pygments_lexer": "ipython3",
   "version": "3.12.3"
  }
 },
 "nbformat": 4,
 "nbformat_minor": 5
}
